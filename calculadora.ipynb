{
 "cells": [
  {
   "cell_type": "markdown",
   "metadata": {},
   "source": [
    "CALCULADORA"
   ]
  },
  {
   "cell_type": "markdown",
   "metadata": {},
   "source": [
    "esse codigo descreve uma calculadora feita em python"
   ]
  },
  {
   "cell_type": "code",
   "execution_count": null,
   "metadata": {},
   "outputs": [],
   "source": [
    "# Criar uma calculadora \n",
    "# Passo 1 abrir janela de dados \n",
    "# Passo 2 digitar os numeros da operaçao\n",
    "# Passo 3 calcular os numeros\n",
    "# Passo 4 mostrar os resultados "
   ]
  },
  {
   "cell_type": "code",
   "execution_count": 4,
   "metadata": {},
   "outputs": [
    {
     "data": {
      "text/plain": [
       "'\\nSelecione a operação:'"
      ]
     },
     "metadata": {},
     "output_type": "display_data"
    },
    {
     "data": {
      "text/plain": [
       "'1. Adição'"
      ]
     },
     "metadata": {},
     "output_type": "display_data"
    },
    {
     "data": {
      "text/plain": [
       "'2. Subtração'"
      ]
     },
     "metadata": {},
     "output_type": "display_data"
    },
    {
     "data": {
      "text/plain": [
       "'3. Multiplicação'"
      ]
     },
     "metadata": {},
     "output_type": "display_data"
    },
    {
     "data": {
      "text/plain": [
       "'4. Divisão'"
      ]
     },
     "metadata": {},
     "output_type": "display_data"
    },
    {
     "data": {
      "text/plain": [
       "'5. Sair'"
      ]
     },
     "metadata": {},
     "output_type": "display_data"
    },
    {
     "data": {
      "text/plain": [
       "'Resultado: 4000.0 * 5666.0 = 22664000.0'"
      ]
     },
     "metadata": {},
     "output_type": "display_data"
    },
    {
     "data": {
      "text/plain": [
       "'\\nSelecione a operação:'"
      ]
     },
     "metadata": {},
     "output_type": "display_data"
    },
    {
     "data": {
      "text/plain": [
       "'1. Adição'"
      ]
     },
     "metadata": {},
     "output_type": "display_data"
    },
    {
     "data": {
      "text/plain": [
       "'2. Subtração'"
      ]
     },
     "metadata": {},
     "output_type": "display_data"
    },
    {
     "data": {
      "text/plain": [
       "'3. Multiplicação'"
      ]
     },
     "metadata": {},
     "output_type": "display_data"
    },
    {
     "data": {
      "text/plain": [
       "'4. Divisão'"
      ]
     },
     "metadata": {},
     "output_type": "display_data"
    },
    {
     "data": {
      "text/plain": [
       "'5. Sair'"
      ]
     },
     "metadata": {},
     "output_type": "display_data"
    },
    {
     "data": {
      "text/plain": [
       "'Saindo da calculadora.'"
      ]
     },
     "metadata": {},
     "output_type": "display_data"
    }
   ],
   "source": [
    "# passo 1 abrir a janela de dados \n",
    "def calcular():\n",
    "    while True:\n",
    "        display(\"\\nSelecione a operação:\")\n",
    "        display(\"1. Adição\")\n",
    "        display(\"2. Subtração\")\n",
    "        display(\"3. Multiplicação\")\n",
    "        display(\"4. Divisão\")\n",
    "        display(\"5. Sair\")\n",
    "        \n",
    "      # Passo 2 digitar os numeros da operaçao\n",
    "      \n",
    "        escolha = input(\"Insira a opção desejada (1/2/3/4/5): \")\n",
    "\n",
    "        if escolha == '5':\n",
    "            display(\"Saindo da calculadora.\")\n",
    "            break\n",
    "          # Passo 3 calcular os numeros\n",
    "        if escolha in ('1', '2', '3', '4'):\n",
    "            try:\n",
    "                numero1 = float(input(\"Digite o primeiro número: \"))\n",
    "                numero2 = float(input(\"Digite o segundo número: \"))\n",
    "            except ValueError:\n",
    "                display(\"Entrada inválida. Digite números válidos.\")\n",
    "                continue\n",
    "                \n",
    "            if escolha == '1':\n",
    "                display(f\"Resultado: {numero1} + {numero2} = {numero1 + numero2}\")\n",
    "            elif escolha == '2':\n",
    "                display(f\"Resultado: {numero1} - {numero2} = {numero1 - numero2}\")\n",
    "            elif escolha == '3':\n",
    "                display(f\"Resultado: {numero1} * {numero2} = {numero1 * numero2}\")\n",
    "            elif escolha == '4':\n",
    "                if numero2 == 0:\n",
    "                    display(\"Erro: Divisão por zero não é permitida.\") \n",
    "                else:       #  Passo 4 mostrar os resultados\n",
    "                    display(f\"Resultado: {numero1} / {numero2} = {numero1 / numero2}\")\n",
    "        else:\n",
    "            display(\"Opção inválida. Tente novamente.\")\n",
    "\n",
    "if __name__ == \"__main__\":\n",
    "    calcular()\n"
   ]
  }
 ],
 "metadata": {
  "kernelspec": {
   "display_name": "Python 3",
   "language": "python",
   "name": "python3"
  },
  "language_info": {
   "codemirror_mode": {
    "name": "ipython",
    "version": 3
   },
   "file_extension": ".py",
   "mimetype": "text/x-python",
   "name": "python",
   "nbconvert_exporter": "python",
   "pygments_lexer": "ipython3",
   "version": "3.13.1"
  }
 },
 "nbformat": 4,
 "nbformat_minor": 2
}
